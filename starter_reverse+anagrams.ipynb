{
  "nbformat": 4,
  "nbformat_minor": 0,
  "metadata": {
    "colab": {
      "provenance": [],
      "include_colab_link": true
    },
    "kernelspec": {
      "name": "python3",
      "display_name": "Python 3"
    },
    "language_info": {
      "name": "python"
    }
  },
  "cells": [
    {
      "cell_type": "markdown",
      "metadata": {
        "id": "view-in-github",
        "colab_type": "text"
      },
      "source": [
        "<a href=\"https://colab.research.google.com/github/andrebarros6/git-practice/blob/master/starter_reverse%2Banagrams.ipynb\" target=\"_parent\"><img src=\"https://colab.research.google.com/assets/colab-badge.svg\" alt=\"Open In Colab\"/></a>"
      ]
    },
    {
      "cell_type": "code",
      "execution_count": null,
      "metadata": {
        "id": "IK6rhPP6X8jZ",
        "outputId": "75637ec5-2f5e-4be7-b1ba-ee9bcc62096c",
        "colab": {
          "base_uri": "https://localhost:8080/",
          "height": 35
        }
      },
      "outputs": [
        {
          "output_type": "execute_result",
          "data": {
            "text/plain": [
              "'olleh'"
            ],
            "application/vnd.google.colaboratory.intrinsic+json": {
              "type": "string"
            }
          },
          "metadata": {},
          "execution_count": 17
        }
      ],
      "source": [
        "#1. Create a function that reverses a string\n",
        "#input: \"hello\"\n",
        "#output: \"olleh\"\n",
        "\n",
        "def reverse_string(string):\n",
        "    reversed_string = ''\n",
        "    for index in range(len(string)):\n",
        "        reversed_string = string[index] + reversed_string\n",
        "    return reversed_string\n",
        "\n",
        "string = \"hello\"\n",
        "reverse_string(string)\n",
        "\n",
        "\n",
        "for letter in word:\n",
        "  reversed_word ="
      ]
    },
    {
      "cell_type": "code",
      "source": [
        "#slicing solution\n",
        "word = \"hello\"\n",
        "\n",
        "word[-1::-1]"
      ],
      "metadata": {
        "id": "lX2G3FV6ezlq",
        "outputId": "e9eeb0eb-b077-441c-b051-46521f8258c6",
        "colab": {
          "base_uri": "https://localhost:8080/",
          "height": 35
        }
      },
      "execution_count": null,
      "outputs": [
        {
          "output_type": "execute_result",
          "data": {
            "text/plain": [
              "'olleh'"
            ],
            "application/vnd.google.colaboratory.intrinsic+json": {
              "type": "string"
            }
          },
          "metadata": {},
          "execution_count": 15
        }
      ]
    },
    {
      "cell_type": "code",
      "source": [
        "#2. Create a function that checks if two words can said to be anagrams\n",
        "# input: \"vile\", \"evil\" -> True\n",
        "\n",
        "def anagram(word1, word2):\n",
        "    #if word1.count() == word2.count():\n",
        "    for letter in word1:\n",
        "\n",
        "    #else:\n",
        "    print(\"The words are not anagrams\")\n",
        "\n",
        "\n",
        "\n",
        "\n",
        "\n",
        "user_word1 = input(\"Enter the first word: \")\n",
        "user_word2 = input(\"Enter the second word: \")\n",
        "anagram(user_word1, user_word2)\n"
      ],
      "metadata": {
        "id": "oQaMJ7_pYIXu"
      },
      "execution_count": null,
      "outputs": []
    },
    {
      "cell_type": "code",
      "source": [
        "word = \"evil\"\n",
        "word2 = \"vile\"\n",
        "\n",
        "def check_anagrams(word1, word2):\n",
        "  word_dict = {}\n",
        "  for char in word:\n",
        "    word_dict[char] = word.count(char)\n",
        "\n",
        "  word2_dict = {}\n",
        "  for char in word2:\n",
        "    word2_dict[char] = word.count(char)\n",
        "  return word_dict == word2_dict\n",
        "\n",
        "check_anagrams(word, word2)"
      ],
      "metadata": {
        "id": "oPQY7_KQggBG",
        "outputId": "ae81d4fa-d2b2-471a-cd19-4fb1273b54ce",
        "colab": {
          "base_uri": "https://localhost:8080/"
        }
      },
      "execution_count": null,
      "outputs": [
        {
          "output_type": "execute_result",
          "data": {
            "text/plain": [
              "True"
            ]
          },
          "metadata": {},
          "execution_count": 21
        }
      ]
    }
  ]
}